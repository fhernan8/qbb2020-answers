{
 "cells": [
  {
   "cell_type": "markdown",
   "metadata": {},
   "source": [
    "1: Implement Binary Search\n",
    "Find and report the nearest protein coding gene to the position 3R:21,378,950.\n",
    "Report the gene's linear genomic distance from 3R:21,378,950.\n",
    "\n",
    "How many iterations (a tally), did it take the search procedure to find the nearest gene? Report this.\n",
    "\n",
    "    Hint 1: Hint 1: Consider the gene_biotype while parsing the input .gtf file.\n",
    "    \n",
    "    Hint 2: To fully utilize the fact that the annotation file is pre-sorted, you can assume that the gene's start and stop positions do not depend on strand.\n",
    "    \n",
    "    Hint 3: What is the distance between a position and a gene if the position is within the gene borders?"
   ]
  },
  {
   "cell_type": "code",
   "execution_count": 72,
   "metadata": {},
   "outputs": [
    {
     "data": {
      "text/plain": [
       "<_io.TextIOWrapper name='/Users/cmdb/qbb2020-answers/day4-lunch/BDGP6.Ensembl.81.gtf' mode='r' encoding='UTF-8'>"
      ]
     },
     "execution_count": 72,
     "metadata": {},
     "output_type": "execute_result"
    }
   ],
   "source": [
    "f = open (\"/Users/cmdb/qbb2020-answers/day4-lunch/BDGP6.Ensembl.81.gtf\")\n",
    "f"
   ]
  },
  {
   "cell_type": "code",
   "execution_count": 75,
   "metadata": {},
   "outputs": [
    {
     "data": {
      "text/plain": [
       "0"
      ]
     },
     "execution_count": 75,
     "metadata": {},
     "output_type": "execute_result"
    }
   ],
   "source": [
    "search_pos = 21,278,950\n",
    "search_chrms = \"3R\"\n",
    "gene_list = []\n",
    "for line in f:\n",
    "    if line.startswith('#'):\n",
    "        continue\n",
    "    fields = line.strip('\\r\\n').split('\\t')\n",
    "    start = int(fields[3])\n",
    "    end = int(fields[4])\n",
    "    chrVal = fields[0]\n",
    "    feature = fields[2]\n",
    "    if chrVal == search_chr and feature=='gene' and 'gene_biotype \"protein_coding\"' in fields[-1]:\n",
    "        subfields = fields[-1].split(';')\n",
    "        for field in subfields:\n",
    "            if \"gene_name\" in field:\n",
    "                gene_name = field.split()[1]\n",
    "                gene_list.append((start,end,gene_name))"
   ]
  },
  {
   "cell_type": "code",
   "execution_count": 5,
   "metadata": {},
   "outputs": [
    {
     "ename": "SyntaxError",
     "evalue": "invalid syntax (<ipython-input-5-547a9b2ea1c3>, line 11)",
     "output_type": "error",
     "traceback": [
      "\u001b[0;36m  File \u001b[0;32m\"<ipython-input-5-547a9b2ea1c3>\"\u001b[0;36m, line \u001b[0;32m11\u001b[0m\n\u001b[0;31m    else if gene_list[mid] < search_pos:\u001b[0m\n\u001b[0m          ^\u001b[0m\n\u001b[0;31mSyntaxError\u001b[0m\u001b[0;31m:\u001b[0m invalid syntax\n"
     ]
    }
   ],
   "source": [
    "lo = 0\n",
    "high =len(gene_list)\n",
    "tally = 0\n",
    "\n",
    "#def gene_find (lo, high, tally, search_pos,)\n",
    "while lo <= high:\n",
    "    mid = (high + low)//2\n",
    "    if gene_list[mid] > search_pos:\n",
    "        high = gene_list[mid] \n",
    "        tally += 1\n",
    "    elif gene_list[mid] < search_pos:\n",
    "        lo = gene_list[mid]\n",
    "        tally += 1\n",
    "    elif lo == high:\n",
    "        return gene_list[lo]\n",
    "               \n",
    "while lo >= high:\n",
    "    mid = (high + low)//2\n",
    "    if gene_list[mid] > search_pos:\n",
    "    elif gene_list[mid] < search_pos:\n",
    "        \n",
    "    \n",
    "            "
   ]
  },
  {
   "cell_type": "code",
   "execution_count": 2,
   "metadata": {},
   "outputs": [
    {
     "ename": "NameError",
     "evalue": "name 'stored_data' is not defined",
     "output_type": "error",
     "traceback": [
      "\u001b[0;31m---------------------------------------------------------------------------\u001b[0m",
      "\u001b[0;31mNameError\u001b[0m                                 Traceback (most recent call last)",
      "\u001b[0;32m<ipython-input-2-1c0ea4b0f4e9>\u001b[0m in \u001b[0;36m<module>\u001b[0;34m()\u001b[0m\n\u001b[1;32m      1\u001b[0m \u001b[0mval\u001b[0m \u001b[0;34m=\u001b[0m \u001b[0;36m21378950\u001b[0m\u001b[0;34m\u001b[0m\u001b[0;34m\u001b[0m\u001b[0m\n\u001b[1;32m      2\u001b[0m \u001b[0;34m\u001b[0m\u001b[0m\n\u001b[0;32m----> 3\u001b[0;31m \u001b[0mhigh\u001b[0m \u001b[0;34m=\u001b[0m \u001b[0mlen\u001b[0m\u001b[0;34m(\u001b[0m\u001b[0mstored_data\u001b[0m\u001b[0;34m)\u001b[0m \u001b[0;34m-\u001b[0m \u001b[0;36m1\u001b[0m\u001b[0;34m\u001b[0m\u001b[0;34m\u001b[0m\u001b[0m\n\u001b[0m\u001b[1;32m      4\u001b[0m \u001b[0mlow\u001b[0m \u001b[0;34m=\u001b[0m \u001b[0;36m0\u001b[0m\u001b[0;34m\u001b[0m\u001b[0;34m\u001b[0m\u001b[0m\n\u001b[1;32m      5\u001b[0m \u001b[0mmid\u001b[0m \u001b[0;34m=\u001b[0m \u001b[0mlen\u001b[0m\u001b[0;34m(\u001b[0m\u001b[0mstored_data\u001b[0m\u001b[0;34m)\u001b[0m\u001b[0;34m//\u001b[0m\u001b[0;36m2\u001b[0m\u001b[0;34m\u001b[0m\u001b[0;34m\u001b[0m\u001b[0m\n",
      "\u001b[0;31mNameError\u001b[0m: name 'stored_data' is not defined"
     ]
    }
   ],
   "source": [
    "val = 21378950\n",
    "\n",
    "high = len(stored_data) - 1\n",
    "low = 0\n",
    "mid = len(stored_data)//2\n",
    "counter = 0\n",
    "\n",
    "while True:\n",
    "    if high == low + 1:\n",
    "        low_value = abs(stored_data[low][1] - val)\n",
    "        high_value = abs(stored_data[high][0] - val)\n",
    "        if high_value < low_value:\n",
    "            print(stored_data[high])\n",
    "            print('Distance to gene', high_value, 'bp')\n",
    "        if low_value < high_value:\n",
    "            print(stored_data[low])\n",
    "            print('Distance to gene', low_value, 'bp')\n",
    "        break\n",
    "    elif val < stored_data[mid][0]:\n",
    "        high = mid \n",
    "        mid = (high + low)//2\n",
    "    elif val > stored_data[mid][1]:\n",
    "        low = mid\n",
    "        mid = (high + low)//2\n",
    "    else\n",
    "        print(stored_data[mid])\n",
    "        break\n",
    "    counter += 1\n",
    "    \n",
    "print('The while loop ran {} times'.format(counter))\n",
    "            "
   ]
  },
  {
   "cell_type": "code",
   "execution_count": null,
   "metadata": {},
   "outputs": [],
   "source": []
  }
 ],
 "metadata": {
  "kernelspec": {
   "display_name": "Python 3",
   "language": "python",
   "name": "python3"
  },
  "language_info": {
   "codemirror_mode": {
    "name": "ipython",
    "version": 3
   },
   "file_extension": ".py",
   "mimetype": "text/x-python",
   "name": "python",
   "nbconvert_exporter": "python",
   "pygments_lexer": "ipython3",
   "version": "3.6.10"
  }
 },
 "nbformat": 4,
 "nbformat_minor": 4
}
