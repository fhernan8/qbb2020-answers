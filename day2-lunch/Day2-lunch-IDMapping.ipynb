{
 "cells": [
  {
   "cell_type": "code",
   "execution_count": 2,
   "metadata": {},
   "outputs": [],
   "source": [
    "f = open (\"/Users/cmdb/qbb2020-answers/day2-lunch/fly.txt\")\n",
    "f\n",
    "f_out = open(\"/Users/cmdb/qbb2020-answers/day2-lunch/mapping.txt\", 'w')\n"
   ]
  },
  {
   "cell_type": "code",
   "execution_count": 3,
   "metadata": {},
   "outputs": [
    {
     "ename": "NameError",
     "evalue": "name 'output' is not defined",
     "output_type": "error",
     "traceback": [
      "\u001b[0;31m---------------------------------------------------------------------------\u001b[0m",
      "\u001b[0;31mNameError\u001b[0m                                 Traceback (most recent call last)",
      "\u001b[0;32m<ipython-input-3-119d3986a9aa>\u001b[0m in \u001b[0;36m<module>\u001b[0;34m()\u001b[0m\n\u001b[1;32m     10\u001b[0m             \u001b[0;32mcontinue\u001b[0m\u001b[0;34m\u001b[0m\u001b[0;34m\u001b[0m\u001b[0m\n\u001b[1;32m     11\u001b[0m         \u001b[0mDic\u001b[0m\u001b[0;34m[\u001b[0m\u001b[0mfields\u001b[0m\u001b[0;34m[\u001b[0m\u001b[0;34m-\u001b[0m\u001b[0;36m1\u001b[0m\u001b[0;34m]\u001b[0m\u001b[0;34m]\u001b[0m \u001b[0;34m=\u001b[0m \u001b[0mfields\u001b[0m\u001b[0;34m[\u001b[0m\u001b[0;34m-\u001b[0m\u001b[0;36m2\u001b[0m\u001b[0;34m]\u001b[0m\u001b[0;34m\u001b[0m\u001b[0;34m\u001b[0m\u001b[0m\n\u001b[0;32m---> 12\u001b[0;31m         \u001b[0moutput\u001b[0m\u001b[0;34m.\u001b[0m\u001b[0mwrite\u001b[0m\u001b[0;34m(\u001b[0m\u001b[0mfields\u001b[0m\u001b[0;34m[\u001b[0m\u001b[0;34m-\u001b[0m\u001b[0;36m1\u001b[0m\u001b[0;34m]\u001b[0m \u001b[0;34m+\u001b[0m \u001b[0;34m\"\\t\"\u001b[0m \u001b[0;34m+\u001b[0m \u001b[0mfields\u001b[0m\u001b[0;34m[\u001b[0m\u001b[0;34m-\u001b[0m\u001b[0;36m2\u001b[0m\u001b[0;34m]\u001b[0m \u001b[0;34m+\u001b[0m \u001b[0;34m\"\\n\"\u001b[0m\u001b[0;34m)\u001b[0m\u001b[0;34m\u001b[0m\u001b[0;34m\u001b[0m\u001b[0m\n\u001b[0m\u001b[1;32m     13\u001b[0m \u001b[0mf_out\u001b[0m\u001b[0;34m.\u001b[0m\u001b[0mclose\u001b[0m\u001b[0;34m(\u001b[0m\u001b[0;34m)\u001b[0m\u001b[0;34m\u001b[0m\u001b[0;34m\u001b[0m\u001b[0m\n\u001b[1;32m     14\u001b[0m \u001b[0;34m\u001b[0m\u001b[0m\n",
      "\u001b[0;31mNameError\u001b[0m: name 'output' is not defined"
     ]
    }
   ],
   "source": [
    "#parse file, Fly Base ID and Uniprot ID\n",
    "Dict = {} #set up dictionary\n",
    "for line in f:\n",
    "    fields = line.rstrip('\\n\\r').split()\n",
    "    if line.count(\"DROME\") == 0: #continue reading line until \"DROME\" is read\n",
    "        continue     \n",
    "    else:\n",
    "        line.split()\n",
    "        if line.count(\"FBgn\")== 0:\n",
    "            continue\n",
    "        Dict[fields[-1]] = fields[-2]   \n",
    "        output.write(fields[-1] + \"\\t\" + fields[-2] + \"\\n\")\n",
    "f_out.close()\n",
    "\n"
   ]
  },
  {
   "cell_type": "code",
   "execution_count": null,
   "metadata": {},
   "outputs": [],
   "source": [
    "f_data = open(\"/Users/cmdb/qbb2020/data/t_data.ctab\")\n",
    "def mapping_function(Dict,):\n",
    "     \n",
    "        for line in fh:\n",
    "            if 'FBgn' in line:\n",
    "                line_split = line.split()\n",
    "                fly_dict[line_split[0]]=line_split[1]\n",
    "                \n",
    "        for line2 in fh2:\n",
    "            if 'FBgn' in line2:\n",
    "                if counter2 < 100:\n",
    "                    line_split2 = line2.split()\n",
    "                    FBgn = line_split2[-4]\n",
    "                    if FBgn in fly_dict:\n",
    "                            line_split2[-4] = fly_dict[FBgn]\n",
    "                            fh3.write('\\t'.join(line_split2)+'\\n')\n",
    "                            counter2 += 1       \n",
    "                    else:\n",
    "                        fh3.write(test)\n",
    "                if counter2 == 100:\n",
    "                    break\n",
    "      \n",
    "    fh.close()\n",
    "    fh2.close()\n",
    "    fh3.close()"
   ]
  }
 ],
 "metadata": {
  "kernelspec": {
   "display_name": "Python 3",
   "language": "python",
   "name": "python3"
  },
  "language_info": {
   "codemirror_mode": {
    "name": "ipython",
    "version": 3
   },
   "file_extension": ".py",
   "mimetype": "text/x-python",
   "name": "python",
   "nbconvert_exporter": "python",
   "pygments_lexer": "ipython3",
   "version": "3.6.10"
  }
 },
 "nbformat": 4,
 "nbformat_minor": 4
}
