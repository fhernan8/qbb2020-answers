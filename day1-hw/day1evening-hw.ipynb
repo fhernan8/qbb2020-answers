{
 "cells": [
  {
   "cell_type": "code",
   "execution_count": 1,
   "metadata": {},
   "outputs": [
    {
     "data": {
      "text/plain": [
       "<_io.TextIOWrapper name='SRR072893.sam' mode='r' encoding='UTF-8'>"
      ]
     },
     "execution_count": 1,
     "metadata": {},
     "output_type": "execute_result"
    }
   ],
   "source": [
    "f = open('SRR072893.sam') #open the sam file\n",
    "f"
   ]
  },
  {
   "cell_type": "code",
   "execution_count": 2,
   "metadata": {},
   "outputs": [
    {
     "name": "stdout",
     "output_type": "stream",
     "text": [
      "2000000\n"
     ]
    }
   ],
   "source": [
    "x = 0\n",
    "for line in f:\n",
    "    x += 1\n",
    "print(x) #counts number of alignments"
   ]
  },
  {
   "cell_type": "code",
   "execution_count": 3,
   "metadata": {},
   "outputs": [
    {
     "name": "stdout",
     "output_type": "stream",
     "text": [
      "1682786\n"
     ]
    }
   ],
   "source": [
    "#Count number of alignments that match perfectly to the genome\n",
    "f = open('SRR072893.sam')\n",
    "y = 0\n",
    "for line in f:\n",
    "    fields = line.rstrip('\\n\\r').split()\n",
    "    if fields[16] == 'NM:i:0':\n",
    "        y += 1\n",
    "print(y)\n",
    "    \n"
   ]
  },
  {
   "cell_type": "code",
   "execution_count": 4,
   "metadata": {},
   "outputs": [
    {
     "name": "stdout",
     "output_type": "stream",
     "text": [
      "2L\n",
      "2L\n",
      "2L\n",
      "2L\n",
      "2L\n",
      "2L\n",
      "2L\n",
      "2L\n",
      "2L\n",
      "2L\n"
     ]
    }
   ],
   "source": [
    "#For the first 10 alignments, print just the column indicating which chromosome a given read aligns to\n",
    "f = open('SRR072893.sam')\n",
    "length = 0\n",
    "for line in f:\n",
    "    field = line.rstrip('\\n\\r').split()\n",
    "    chromosome = field[2]\n",
    "    length += 1\n",
    "    if length <= 10:\n",
    "        print(chromosome)\n",
    "    "
   ]
  },
  {
   "cell_type": "code",
   "execution_count": 7,
   "metadata": {},
   "outputs": [
    {
     "name": "stdout",
     "output_type": "stream",
     "text": [
      "59.6407825\n"
     ]
    }
   ],
   "source": [
    "#Calculate average MAPQ score across all reads\n",
    "f = open('SRR072893.sam')\n",
    "mapq = 0 \n",
    "count = 0\n",
    "for line in f:\n",
    "    field = line.rstrip('\\n\\r').split()\n",
    "    mapq += int(field[4])\n",
    "    count += 1\n",
    "mapq_avg = mapq/count\n",
    "print(mapq_avg)\n"
   ]
  },
  {
   "cell_type": "code",
   "execution_count": 10,
   "metadata": {},
   "outputs": [
    {
     "name": "stdout",
     "output_type": "stream",
     "text": [
      "7550\n"
     ]
    }
   ],
   "source": [
    "#Count number of reads that start their alignment on chromosome 2L between base 10000 and 20000 (inclusive)\n",
    "f = open('SRR072893.sam')\n",
    "count = 0\n",
    "for line in f:\n",
    "    field = line.split()\n",
    "    chrom_align = int(field[3])\n",
    "    if field[2] == '2L' and chrom_align >= 10000 and chrom_align <= 20000:\n",
    "        count += 1\n",
    "print(count)"
   ]
  },
  {
   "cell_type": "code",
   "execution_count": null,
   "metadata": {},
   "outputs": [],
   "source": []
  }
 ],
 "metadata": {
  "kernelspec": {
   "display_name": "Python 3",
   "language": "python",
   "name": "python3"
  },
  "language_info": {
   "codemirror_mode": {
    "name": "ipython",
    "version": 3
   },
   "file_extension": ".py",
   "mimetype": "text/x-python",
   "name": "python",
   "nbconvert_exporter": "python",
   "pygments_lexer": "ipython3",
   "version": "3.6.10"
  }
 },
 "nbformat": 4,
 "nbformat_minor": 4
}
